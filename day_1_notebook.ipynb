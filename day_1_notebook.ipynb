{
 "cells": [
  {
   "cell_type": "code",
   "execution_count": 3,
   "id": "cdf4714d",
   "metadata": {},
   "outputs": [
    {
     "name": "stdout",
     "output_type": "stream",
     "text": [
      "hello world\n"
     ]
    }
   ],
   "source": [
    "print('hello world')"
   ]
  },
  {
   "cell_type": "code",
   "execution_count": 25,
   "id": "df554e19",
   "metadata": {},
   "outputs": [],
   "source": [
    "my_string = 'sdfsfsdfsadfdfgdsfg'\n",
    "my_int = 3457\n",
    "my_float = 7.9123"
   ]
  },
  {
   "cell_type": "code",
   "execution_count": 26,
   "id": "cfe70067",
   "metadata": {},
   "outputs": [],
   "source": [
    "my_string2 = 'uyiyuiyuiyuiyui'\n",
    "my_int2 = 8\n",
    "my_float2 = 7.0"
   ]
  },
  {
   "cell_type": "code",
   "execution_count": 27,
   "id": "8aca202b",
   "metadata": {},
   "outputs": [
    {
     "data": {
      "text/plain": [
       "'sdfsuyiyu'"
      ]
     },
     "execution_count": 27,
     "metadata": {},
     "output_type": "execute_result"
    }
   ],
   "source": [
    "my_string[0:4]+my_string2[0:5]"
   ]
  },
  {
   "cell_type": "code",
   "execution_count": 29,
   "id": "274a481c",
   "metadata": {},
   "outputs": [
    {
     "data": {
      "text/plain": [
       "27656"
      ]
     },
     "execution_count": 29,
     "metadata": {},
     "output_type": "execute_result"
    }
   ],
   "source": [
    "my_int2*my_int"
   ]
  },
  {
   "cell_type": "code",
   "execution_count": 35,
   "id": "dd21854c",
   "metadata": {},
   "outputs": [
    {
     "data": {
      "text/plain": [
       "1"
      ]
     },
     "execution_count": 35,
     "metadata": {},
     "output_type": "execute_result"
    }
   ],
   "source": [
    "my_int2%7"
   ]
  },
  {
   "cell_type": "code",
   "execution_count": 45,
   "id": "448776fe",
   "metadata": {},
   "outputs": [
    {
     "data": {
      "text/plain": [
       "3.0"
      ]
     },
     "execution_count": 45,
     "metadata": {},
     "output_type": "execute_result"
    }
   ],
   "source": [
    "my_float2"
   ]
  },
  {
   "cell_type": "code",
   "execution_count": 49,
   "id": "a6ecc59e",
   "metadata": {},
   "outputs": [
    {
     "data": {
      "text/plain": [
       "19"
      ]
     },
     "execution_count": 49,
     "metadata": {},
     "output_type": "execute_result"
    }
   ],
   "source": [
    "len(my_string)"
   ]
  },
  {
   "cell_type": "code",
   "execution_count": 51,
   "id": "bf64428e",
   "metadata": {},
   "outputs": [],
   "source": [
    "my_bool = True\n",
    "my_boolf = False"
   ]
  },
  {
   "cell_type": "code",
   "execution_count": 54,
   "id": "21a3cf70",
   "metadata": {},
   "outputs": [],
   "source": [
    "if my_boolf:\n",
    "    print(4)"
   ]
  },
  {
   "cell_type": "code",
   "execution_count": 61,
   "id": "ebb57f37",
   "metadata": {},
   "outputs": [
    {
     "data": {
      "text/plain": [
       "2"
      ]
     },
     "execution_count": 61,
     "metadata": {},
     "output_type": "execute_result"
    }
   ],
   "source": [
    "True + True"
   ]
  },
  {
   "cell_type": "code",
   "execution_count": 68,
   "id": "8479e101",
   "metadata": {},
   "outputs": [
    {
     "data": {
      "text/plain": [
       "True"
      ]
     },
     "execution_count": 68,
     "metadata": {},
     "output_type": "execute_result"
    }
   ],
   "source": [
    "1 == True"
   ]
  },
  {
   "cell_type": "code",
   "execution_count": 70,
   "id": "1ba949d3",
   "metadata": {},
   "outputs": [
    {
     "data": {
      "text/plain": [
       "False"
      ]
     },
     "execution_count": 70,
     "metadata": {},
     "output_type": "execute_result"
    }
   ],
   "source": [
    "'z' in 'abfgrt'"
   ]
  },
  {
   "cell_type": "code",
   "execution_count": 71,
   "id": "d778008c",
   "metadata": {},
   "outputs": [],
   "source": [
    "my_boolean = ((3*3*3)==(3**3))\n",
    "another_boolean = ((3*2)==(5*1))\n",
    "and_another_boolean = (4 == 6)"
   ]
  },
  {
   "cell_type": "code",
   "execution_count": 73,
   "id": "9ef58d80",
   "metadata": {},
   "outputs": [
    {
     "data": {
      "text/plain": [
       "False"
      ]
     },
     "execution_count": 73,
     "metadata": {},
     "output_type": "execute_result"
    }
   ],
   "source": [
    "another_boolean"
   ]
  },
  {
   "cell_type": "code",
   "execution_count": 74,
   "id": "88986283",
   "metadata": {},
   "outputs": [],
   "source": [
    "my_list = [2, 5, 8, 'a',5.7,True,'ffssd']"
   ]
  },
  {
   "cell_type": "code",
   "execution_count": 75,
   "id": "b0ff40f7",
   "metadata": {},
   "outputs": [
    {
     "data": {
      "text/plain": [
       "2"
      ]
     },
     "execution_count": 75,
     "metadata": {},
     "output_type": "execute_result"
    }
   ],
   "source": [
    "my_list[0]"
   ]
  },
  {
   "cell_type": "code",
   "execution_count": 76,
   "id": "d1b47094",
   "metadata": {},
   "outputs": [
    {
     "data": {
      "text/plain": [
       "5"
      ]
     },
     "execution_count": 76,
     "metadata": {},
     "output_type": "execute_result"
    }
   ],
   "source": [
    "my_list[1]"
   ]
  },
  {
   "cell_type": "code",
   "execution_count": 77,
   "id": "cdd59978",
   "metadata": {},
   "outputs": [
    {
     "data": {
      "text/plain": [
       "[2, 5, 8, 'a', 5.7]"
      ]
     },
     "execution_count": 77,
     "metadata": {},
     "output_type": "execute_result"
    }
   ],
   "source": [
    "my_list[0:5]"
   ]
  },
  {
   "cell_type": "code",
   "execution_count": 79,
   "id": "fb2ff00a",
   "metadata": {},
   "outputs": [
    {
     "data": {
      "text/plain": [
       "['a', 5.7, True, 'ffssd']"
      ]
     },
     "execution_count": 79,
     "metadata": {},
     "output_type": "execute_result"
    }
   ],
   "source": [
    "my_list[3:7]"
   ]
  },
  {
   "cell_type": "code",
   "execution_count": 82,
   "id": "e9648ff9",
   "metadata": {},
   "outputs": [
    {
     "data": {
      "text/plain": [
       "['a', 5.7, True, 'ffssd']"
      ]
     },
     "execution_count": 82,
     "metadata": {},
     "output_type": "execute_result"
    }
   ],
   "source": [
    "my_list[3:14]"
   ]
  },
  {
   "cell_type": "code",
   "execution_count": 85,
   "id": "40416956",
   "metadata": {},
   "outputs": [
    {
     "ename": "IndexError",
     "evalue": "list index out of range",
     "output_type": "error",
     "traceback": [
      "\u001b[1;31m---------------------------------------------------------------------------\u001b[0m",
      "\u001b[1;31mIndexError\u001b[0m                                Traceback (most recent call last)",
      "Cell \u001b[1;32mIn[85], line 1\u001b[0m\n\u001b[1;32m----> 1\u001b[0m \u001b[43mmy_list\u001b[49m\u001b[43m[\u001b[49m\u001b[38;5;241;43m15\u001b[39;49m\u001b[43m]\u001b[49m\n",
      "\u001b[1;31mIndexError\u001b[0m: list index out of range"
     ]
    }
   ],
   "source": [
    "my_list[15]"
   ]
  },
  {
   "cell_type": "code",
   "execution_count": 86,
   "id": "d99d3a80",
   "metadata": {},
   "outputs": [
    {
     "name": "stdout",
     "output_type": "stream",
     "text": [
      "a in my list\n"
     ]
    }
   ],
   "source": [
    "if 'a' in my_list:\n",
    "    print('a in my list')"
   ]
  },
  {
   "cell_type": "code",
   "execution_count": 106,
   "id": "18ee80e9",
   "metadata": {},
   "outputs": [],
   "source": [
    "def check_for_element(blah,blahblah):\n",
    "    if blah in blahblah:\n",
    "        print(str(blah)+' in my list')\n",
    "    else:\n",
    "        print(str(blah)+' NOT in my list')"
   ]
  },
  {
   "cell_type": "code",
   "execution_count": 108,
   "id": "adb67369",
   "metadata": {},
   "outputs": [
    {
     "name": "stdout",
     "output_type": "stream",
     "text": [
      "8 in my list\n"
     ]
    }
   ],
   "source": [
    "check_for_element(8,my_list)"
   ]
  },
  {
   "cell_type": "code",
   "execution_count": 109,
   "id": "246ae2da",
   "metadata": {},
   "outputs": [
    {
     "data": {
      "text/plain": [
       "7"
      ]
     },
     "execution_count": 109,
     "metadata": {},
     "output_type": "execute_result"
    }
   ],
   "source": [
    "len(my_list)"
   ]
  },
  {
   "cell_type": "code",
   "execution_count": 110,
   "id": "122871a8",
   "metadata": {},
   "outputs": [],
   "source": [
    "my_list.append(91)"
   ]
  },
  {
   "cell_type": "code",
   "execution_count": 111,
   "id": "10d23c7b",
   "metadata": {},
   "outputs": [
    {
     "name": "stdout",
     "output_type": "stream",
     "text": [
      "[2, 5, 8, 'a', 5.7, True, 'ffssd', 91]\n"
     ]
    }
   ],
   "source": [
    "print(my_list)"
   ]
  },
  {
   "cell_type": "code",
   "execution_count": 112,
   "id": "45a35fb1",
   "metadata": {},
   "outputs": [],
   "source": [
    "my_list.append([4,8,1])"
   ]
  },
  {
   "cell_type": "code",
   "execution_count": 113,
   "id": "5f8865c5",
   "metadata": {},
   "outputs": [
    {
     "data": {
      "text/plain": [
       "[2, 5, 8, 'a', 5.7, True, 'ffssd', 91, [4, 8, 1]]"
      ]
     },
     "execution_count": 113,
     "metadata": {},
     "output_type": "execute_result"
    }
   ],
   "source": [
    "my_list"
   ]
  },
  {
   "cell_type": "code",
   "execution_count": 114,
   "id": "949455b5",
   "metadata": {},
   "outputs": [
    {
     "data": {
      "text/plain": [
       "9"
      ]
     },
     "execution_count": 114,
     "metadata": {},
     "output_type": "execute_result"
    }
   ],
   "source": [
    "len(my_list)"
   ]
  },
  {
   "cell_type": "code",
   "execution_count": 125,
   "id": "b24a76e5",
   "metadata": {},
   "outputs": [
    {
     "name": "stdout",
     "output_type": "stream",
     "text": [
      "2\n",
      "5\n",
      "8\n",
      "a\n",
      "5.7\n",
      "True\n",
      "ffssd\n",
      "91\n",
      "[4, 8, 1]\n"
     ]
    }
   ],
   "source": [
    "for i in my_list:\n",
    "    print(i)"
   ]
  },
  {
   "cell_type": "code",
   "execution_count": 126,
   "id": "bf92a280",
   "metadata": {},
   "outputs": [],
   "source": [
    "my_dictionary = {'name': 'Bob','profession':'doctor','city':'London','age':47}"
   ]
  },
  {
   "cell_type": "code",
   "execution_count": 133,
   "id": "93a6ad04",
   "metadata": {},
   "outputs": [
    {
     "name": "stdout",
     "output_type": "stream",
     "text": [
      "name:Bob\n",
      "profession:doctor\n",
      "city:London\n",
      "age:47\n"
     ]
    }
   ],
   "source": [
    "for i in my_dictionary:\n",
    "    print(str(i)+ ':' + str(my_dictionary[i]))"
   ]
  },
  {
   "cell_type": "code",
   "execution_count": 136,
   "id": "b71b734d",
   "metadata": {},
   "outputs": [
    {
     "data": {
      "text/plain": [
       "'London'"
      ]
     },
     "execution_count": 136,
     "metadata": {},
     "output_type": "execute_result"
    }
   ],
   "source": [
    "my_dictionary['city']"
   ]
  },
  {
   "cell_type": "code",
   "execution_count": 137,
   "id": "16b0748c",
   "metadata": {},
   "outputs": [],
   "source": [
    "#updating the dictionary\n",
    "my_dictionary['city']='Glasgow'"
   ]
  },
  {
   "cell_type": "code",
   "execution_count": 138,
   "id": "2069d1c0",
   "metadata": {},
   "outputs": [
    {
     "data": {
      "text/plain": [
       "{'name': 'Bob', 'profession': 'doctor', 'city': 'Glasgow', 'age': 47}"
      ]
     },
     "execution_count": 138,
     "metadata": {},
     "output_type": "execute_result"
    }
   ],
   "source": [
    "my_dictionary"
   ]
  },
  {
   "cell_type": "code",
   "execution_count": 139,
   "id": "1e434a54",
   "metadata": {},
   "outputs": [],
   "source": [
    "my_dictionary['Education'] = {'undergrad':'UofT','med school':'UBC'}"
   ]
  },
  {
   "cell_type": "code",
   "execution_count": 140,
   "id": "69b2a0a9",
   "metadata": {},
   "outputs": [
    {
     "data": {
      "text/plain": [
       "{'name': 'Bob',\n",
       " 'profession': 'doctor',\n",
       " 'city': 'Glasgow',\n",
       " 'age': 47,\n",
       " 'Education': {'undergrad': 'UofT', 'med school': 'UBC'}}"
      ]
     },
     "execution_count": 140,
     "metadata": {},
     "output_type": "execute_result"
    }
   ],
   "source": [
    "my_dictionary"
   ]
  },
  {
   "cell_type": "code",
   "execution_count": 143,
   "id": "bb8960f4",
   "metadata": {},
   "outputs": [],
   "source": [
    "data_dictionary = {'variable1':[1,3,7,9.0,8],'variable2':[1,0,0,1,0],'variable3':[3,7,9,1,0]}"
   ]
  },
  {
   "cell_type": "code",
   "execution_count": 144,
   "id": "11c00781",
   "metadata": {},
   "outputs": [
    {
     "data": {
      "text/plain": [
       "{'variable1': [1, 3, 7, 9.0, 8],\n",
       " 'variable2': [1, 0, 0, 1, 0],\n",
       " 'variable3': [3, 7, 9, 1, 0]}"
      ]
     },
     "execution_count": 144,
     "metadata": {},
     "output_type": "execute_result"
    }
   ],
   "source": [
    "data_dictionary"
   ]
  },
  {
   "cell_type": "code",
   "execution_count": 149,
   "id": "81811311",
   "metadata": {},
   "outputs": [
    {
     "name": "stdout",
     "output_type": "stream",
     "text": [
      "0\n",
      "1\n",
      "2\n",
      "3\n",
      "4\n",
      "5\n",
      "6\n",
      "7\n",
      "8\n",
      "9\n"
     ]
    }
   ],
   "source": [
    "tracker = 0\n",
    "while tracker < 10:\n",
    "    print(tracker)\n",
    "    tracker = tracker + 1"
   ]
  },
  {
   "cell_type": "code",
   "execution_count": 150,
   "id": "77457b7d",
   "metadata": {},
   "outputs": [
    {
     "data": {
      "text/plain": [
       "'C:\\\\Users\\\\wedwa\\\\OneDrive\\\\Documents\\\\sept_13_repo_morning'"
      ]
     },
     "execution_count": 150,
     "metadata": {},
     "output_type": "execute_result"
    }
   ],
   "source": [
    "pwd"
   ]
  },
  {
   "cell_type": "code",
   "execution_count": 151,
   "id": "98253b40",
   "metadata": {},
   "outputs": [],
   "source": [
    "import pandas as pd\n",
    "import numpy as np\n",
    "import matplotlib.pyplot as plt\n"
   ]
  },
  {
   "cell_type": "code",
   "execution_count": 152,
   "id": "4ee6bac1",
   "metadata": {},
   "outputs": [],
   "source": [
    "today_data = pd.read_csv('Countries_of_the_world_1970 - imputed_international_data_70 (1).csv')"
   ]
  },
  {
   "cell_type": "code",
   "execution_count": 153,
   "id": "8cda4e70",
   "metadata": {},
   "outputs": [
    {
     "data": {
      "text/html": [
       "<div>\n",
       "<style scoped>\n",
       "    .dataframe tbody tr th:only-of-type {\n",
       "        vertical-align: middle;\n",
       "    }\n",
       "\n",
       "    .dataframe tbody tr th {\n",
       "        vertical-align: top;\n",
       "    }\n",
       "\n",
       "    .dataframe thead th {\n",
       "        text-align: right;\n",
       "    }\n",
       "</style>\n",
       "<table border=\"1\" class=\"dataframe\">\n",
       "  <thead>\n",
       "    <tr style=\"text-align: right;\">\n",
       "      <th></th>\n",
       "      <th>Entity</th>\n",
       "      <th>indiv_libs_vdem_owid</th>\n",
       "      <th>electdem_vdem_owid</th>\n",
       "      <th>libdem_vdem_owid</th>\n",
       "      <th>Countries</th>\n",
       "      <th>Economic.Freedom.Summary.Index</th>\n",
       "      <th>Government.consumption</th>\n",
       "      <th>Transfers.and.subsidies</th>\n",
       "      <th>Government.investment</th>\n",
       "      <th>State.ownership.of.assets</th>\n",
       "      <th>...</th>\n",
       "      <th>Centralized.collective.bargaining</th>\n",
       "      <th>Hours.Regulations</th>\n",
       "      <th>Conscription</th>\n",
       "      <th>Labor.market.regulations</th>\n",
       "      <th>Impartial.Public.Administration</th>\n",
       "      <th>Regulation</th>\n",
       "      <th>alliance</th>\n",
       "      <th>regimenarrowcat</th>\n",
       "      <th>Regime_type</th>\n",
       "      <th>id</th>\n",
       "    </tr>\n",
       "  </thead>\n",
       "  <tbody>\n",
       "    <tr>\n",
       "      <th>0</th>\n",
       "      <td>Afghanistan</td>\n",
       "      <td>0.266</td>\n",
       "      <td>0.160</td>\n",
       "      <td>0.104</td>\n",
       "      <td>NaN</td>\n",
       "      <td>5.506573</td>\n",
       "      <td>6.393604</td>\n",
       "      <td>8.740967</td>\n",
       "      <td>5.519734</td>\n",
       "      <td>5.025106</td>\n",
       "      <td>...</td>\n",
       "      <td>5.897546</td>\n",
       "      <td>5.932564</td>\n",
       "      <td>2.392234</td>\n",
       "      <td>4.700103</td>\n",
       "      <td>4.887146</td>\n",
       "      <td>4.776903</td>\n",
       "      <td>not a US ally</td>\n",
       "      <td>8.0</td>\n",
       "      <td>Monarchy</td>\n",
       "      <td>1</td>\n",
       "    </tr>\n",
       "    <tr>\n",
       "      <th>1</th>\n",
       "      <td>Albania</td>\n",
       "      <td>0.006</td>\n",
       "      <td>0.173</td>\n",
       "      <td>0.055</td>\n",
       "      <td>Albania</td>\n",
       "      <td>3.713222</td>\n",
       "      <td>3.170575</td>\n",
       "      <td>8.262926</td>\n",
       "      <td>-0.627520</td>\n",
       "      <td>0.180000</td>\n",
       "      <td>...</td>\n",
       "      <td>4.220652</td>\n",
       "      <td>4.846848</td>\n",
       "      <td>0.000000</td>\n",
       "      <td>4.215714</td>\n",
       "      <td>1.750000</td>\n",
       "      <td>3.230021</td>\n",
       "      <td>not a US ally</td>\n",
       "      <td>4.0</td>\n",
       "      <td>Single-party rule</td>\n",
       "      <td>2</td>\n",
       "    </tr>\n",
       "    <tr>\n",
       "      <th>2</th>\n",
       "      <td>Algeria</td>\n",
       "      <td>0.428</td>\n",
       "      <td>0.084</td>\n",
       "      <td>0.065</td>\n",
       "      <td>Algeria</td>\n",
       "      <td>4.680000</td>\n",
       "      <td>5.540000</td>\n",
       "      <td>9.322154</td>\n",
       "      <td>7.320000</td>\n",
       "      <td>2.490000</td>\n",
       "      <td>...</td>\n",
       "      <td>5.540452</td>\n",
       "      <td>6.185718</td>\n",
       "      <td>3.000000</td>\n",
       "      <td>4.572435</td>\n",
       "      <td>3.910000</td>\n",
       "      <td>3.630000</td>\n",
       "      <td>not a US ally</td>\n",
       "      <td>7.0</td>\n",
       "      <td>Military rule</td>\n",
       "      <td>3</td>\n",
       "    </tr>\n",
       "    <tr>\n",
       "      <th>3</th>\n",
       "      <td>Angola</td>\n",
       "      <td>0.024</td>\n",
       "      <td>0.010</td>\n",
       "      <td>0.035</td>\n",
       "      <td>Angola</td>\n",
       "      <td>4.547754</td>\n",
       "      <td>6.109553</td>\n",
       "      <td>8.385527</td>\n",
       "      <td>4.949296</td>\n",
       "      <td>3.180000</td>\n",
       "      <td>...</td>\n",
       "      <td>4.641346</td>\n",
       "      <td>5.671838</td>\n",
       "      <td>0.536243</td>\n",
       "      <td>3.955813</td>\n",
       "      <td>2.370000</td>\n",
       "      <td>3.778725</td>\n",
       "      <td>not a US ally</td>\n",
       "      <td>NaN</td>\n",
       "      <td>unknown</td>\n",
       "      <td>4</td>\n",
       "    </tr>\n",
       "    <tr>\n",
       "      <th>4</th>\n",
       "      <td>Argentina</td>\n",
       "      <td>0.354</td>\n",
       "      <td>0.105</td>\n",
       "      <td>0.086</td>\n",
       "      <td>Argentina</td>\n",
       "      <td>5.980000</td>\n",
       "      <td>7.930000</td>\n",
       "      <td>8.006018</td>\n",
       "      <td>8.187808</td>\n",
       "      <td>6.150000</td>\n",
       "      <td>...</td>\n",
       "      <td>5.180000</td>\n",
       "      <td>5.720000</td>\n",
       "      <td>0.000000</td>\n",
       "      <td>3.630000</td>\n",
       "      <td>2.420000</td>\n",
       "      <td>5.310000</td>\n",
       "      <td>US ally</td>\n",
       "      <td>7.0</td>\n",
       "      <td>Military rule</td>\n",
       "      <td>5</td>\n",
       "    </tr>\n",
       "    <tr>\n",
       "      <th>...</th>\n",
       "      <td>...</td>\n",
       "      <td>...</td>\n",
       "      <td>...</td>\n",
       "      <td>...</td>\n",
       "      <td>...</td>\n",
       "      <td>...</td>\n",
       "      <td>...</td>\n",
       "      <td>...</td>\n",
       "      <td>...</td>\n",
       "      <td>...</td>\n",
       "      <td>...</td>\n",
       "      <td>...</td>\n",
       "      <td>...</td>\n",
       "      <td>...</td>\n",
       "      <td>...</td>\n",
       "      <td>...</td>\n",
       "      <td>...</td>\n",
       "      <td>...</td>\n",
       "      <td>...</td>\n",
       "      <td>...</td>\n",
       "      <td>...</td>\n",
       "    </tr>\n",
       "    <tr>\n",
       "      <th>177</th>\n",
       "      <td>United Arab Emirates</td>\n",
       "      <td>NaN</td>\n",
       "      <td>NaN</td>\n",
       "      <td>NaN</td>\n",
       "      <td>United Arab Emirates</td>\n",
       "      <td>5.318299</td>\n",
       "      <td>6.321991</td>\n",
       "      <td>7.942938</td>\n",
       "      <td>6.984351</td>\n",
       "      <td>5.128654</td>\n",
       "      <td>...</td>\n",
       "      <td>4.578971</td>\n",
       "      <td>5.804901</td>\n",
       "      <td>-1.635512</td>\n",
       "      <td>3.297957</td>\n",
       "      <td>4.408227</td>\n",
       "      <td>4.057185</td>\n",
       "      <td>not a US ally</td>\n",
       "      <td>NaN</td>\n",
       "      <td>unknown</td>\n",
       "      <td>178</td>\n",
       "    </tr>\n",
       "    <tr>\n",
       "      <th>178</th>\n",
       "      <td>Bahamas, The</td>\n",
       "      <td>NaN</td>\n",
       "      <td>NaN</td>\n",
       "      <td>NaN</td>\n",
       "      <td>Bahamas, The</td>\n",
       "      <td>6.444528</td>\n",
       "      <td>7.929654</td>\n",
       "      <td>9.750000</td>\n",
       "      <td>8.271012</td>\n",
       "      <td>7.359644</td>\n",
       "      <td>...</td>\n",
       "      <td>7.506363</td>\n",
       "      <td>6.864895</td>\n",
       "      <td>6.740750</td>\n",
       "      <td>6.570836</td>\n",
       "      <td>6.959719</td>\n",
       "      <td>6.624903</td>\n",
       "      <td>not a US ally</td>\n",
       "      <td>NaN</td>\n",
       "      <td>unknown</td>\n",
       "      <td>179</td>\n",
       "    </tr>\n",
       "    <tr>\n",
       "      <th>179</th>\n",
       "      <td>Belize</td>\n",
       "      <td>NaN</td>\n",
       "      <td>NaN</td>\n",
       "      <td>NaN</td>\n",
       "      <td>Belize</td>\n",
       "      <td>6.552629</td>\n",
       "      <td>6.550790</td>\n",
       "      <td>8.277202</td>\n",
       "      <td>6.172708</td>\n",
       "      <td>6.257622</td>\n",
       "      <td>...</td>\n",
       "      <td>6.498267</td>\n",
       "      <td>5.631109</td>\n",
       "      <td>4.938871</td>\n",
       "      <td>5.273427</td>\n",
       "      <td>6.551369</td>\n",
       "      <td>5.902861</td>\n",
       "      <td>not a US ally</td>\n",
       "      <td>NaN</td>\n",
       "      <td>unknown</td>\n",
       "      <td>180</td>\n",
       "    </tr>\n",
       "    <tr>\n",
       "      <th>180</th>\n",
       "      <td>Brunei Darussalam</td>\n",
       "      <td>NaN</td>\n",
       "      <td>NaN</td>\n",
       "      <td>NaN</td>\n",
       "      <td>Brunei Darussalam</td>\n",
       "      <td>5.429512</td>\n",
       "      <td>6.567417</td>\n",
       "      <td>8.823056</td>\n",
       "      <td>5.877209</td>\n",
       "      <td>5.083315</td>\n",
       "      <td>...</td>\n",
       "      <td>5.809336</td>\n",
       "      <td>6.037126</td>\n",
       "      <td>1.554685</td>\n",
       "      <td>4.469860</td>\n",
       "      <td>4.482676</td>\n",
       "      <td>4.579663</td>\n",
       "      <td>not a US ally</td>\n",
       "      <td>NaN</td>\n",
       "      <td>unknown</td>\n",
       "      <td>181</td>\n",
       "    </tr>\n",
       "    <tr>\n",
       "      <th>181</th>\n",
       "      <td>Montenegro</td>\n",
       "      <td>NaN</td>\n",
       "      <td>NaN</td>\n",
       "      <td>NaN</td>\n",
       "      <td>Montenegro</td>\n",
       "      <td>5.034850</td>\n",
       "      <td>6.090277</td>\n",
       "      <td>9.203655</td>\n",
       "      <td>3.880783</td>\n",
       "      <td>4.024726</td>\n",
       "      <td>...</td>\n",
       "      <td>6.080078</td>\n",
       "      <td>5.883605</td>\n",
       "      <td>3.366051</td>\n",
       "      <td>5.037536</td>\n",
       "      <td>4.246232</td>\n",
       "      <td>4.497032</td>\n",
       "      <td>not a US ally</td>\n",
       "      <td>4.0</td>\n",
       "      <td>Single-party rule</td>\n",
       "      <td>182</td>\n",
       "    </tr>\n",
       "  </tbody>\n",
       "</table>\n",
       "<p>182 rows × 43 columns</p>\n",
       "</div>"
      ],
      "text/plain": [
       "                   Entity  indiv_libs_vdem_owid  electdem_vdem_owid  \\\n",
       "0             Afghanistan                 0.266               0.160   \n",
       "1                 Albania                 0.006               0.173   \n",
       "2                 Algeria                 0.428               0.084   \n",
       "3                  Angola                 0.024               0.010   \n",
       "4               Argentina                 0.354               0.105   \n",
       "..                    ...                   ...                 ...   \n",
       "177  United Arab Emirates                   NaN                 NaN   \n",
       "178          Bahamas, The                   NaN                 NaN   \n",
       "179                Belize                   NaN                 NaN   \n",
       "180     Brunei Darussalam                   NaN                 NaN   \n",
       "181            Montenegro                   NaN                 NaN   \n",
       "\n",
       "     libdem_vdem_owid             Countries  Economic.Freedom.Summary.Index  \\\n",
       "0               0.104                   NaN                        5.506573   \n",
       "1               0.055               Albania                        3.713222   \n",
       "2               0.065               Algeria                        4.680000   \n",
       "3               0.035                Angola                        4.547754   \n",
       "4               0.086             Argentina                        5.980000   \n",
       "..                ...                   ...                             ...   \n",
       "177               NaN  United Arab Emirates                        5.318299   \n",
       "178               NaN          Bahamas, The                        6.444528   \n",
       "179               NaN                Belize                        6.552629   \n",
       "180               NaN     Brunei Darussalam                        5.429512   \n",
       "181               NaN            Montenegro                        5.034850   \n",
       "\n",
       "     Government.consumption  Transfers.and.subsidies  Government.investment  \\\n",
       "0                  6.393604                 8.740967               5.519734   \n",
       "1                  3.170575                 8.262926              -0.627520   \n",
       "2                  5.540000                 9.322154               7.320000   \n",
       "3                  6.109553                 8.385527               4.949296   \n",
       "4                  7.930000                 8.006018               8.187808   \n",
       "..                      ...                      ...                    ...   \n",
       "177                6.321991                 7.942938               6.984351   \n",
       "178                7.929654                 9.750000               8.271012   \n",
       "179                6.550790                 8.277202               6.172708   \n",
       "180                6.567417                 8.823056               5.877209   \n",
       "181                6.090277                 9.203655               3.880783   \n",
       "\n",
       "     State.ownership.of.assets  ...  Centralized.collective.bargaining  \\\n",
       "0                     5.025106  ...                           5.897546   \n",
       "1                     0.180000  ...                           4.220652   \n",
       "2                     2.490000  ...                           5.540452   \n",
       "3                     3.180000  ...                           4.641346   \n",
       "4                     6.150000  ...                           5.180000   \n",
       "..                         ...  ...                                ...   \n",
       "177                   5.128654  ...                           4.578971   \n",
       "178                   7.359644  ...                           7.506363   \n",
       "179                   6.257622  ...                           6.498267   \n",
       "180                   5.083315  ...                           5.809336   \n",
       "181                   4.024726  ...                           6.080078   \n",
       "\n",
       "     Hours.Regulations  Conscription  Labor.market.regulations  \\\n",
       "0             5.932564      2.392234                  4.700103   \n",
       "1             4.846848      0.000000                  4.215714   \n",
       "2             6.185718      3.000000                  4.572435   \n",
       "3             5.671838      0.536243                  3.955813   \n",
       "4             5.720000      0.000000                  3.630000   \n",
       "..                 ...           ...                       ...   \n",
       "177           5.804901     -1.635512                  3.297957   \n",
       "178           6.864895      6.740750                  6.570836   \n",
       "179           5.631109      4.938871                  5.273427   \n",
       "180           6.037126      1.554685                  4.469860   \n",
       "181           5.883605      3.366051                  5.037536   \n",
       "\n",
       "     Impartial.Public.Administration  Regulation       alliance  \\\n",
       "0                           4.887146    4.776903  not a US ally   \n",
       "1                           1.750000    3.230021  not a US ally   \n",
       "2                           3.910000    3.630000  not a US ally   \n",
       "3                           2.370000    3.778725  not a US ally   \n",
       "4                           2.420000    5.310000        US ally   \n",
       "..                               ...         ...            ...   \n",
       "177                         4.408227    4.057185  not a US ally   \n",
       "178                         6.959719    6.624903  not a US ally   \n",
       "179                         6.551369    5.902861  not a US ally   \n",
       "180                         4.482676    4.579663  not a US ally   \n",
       "181                         4.246232    4.497032  not a US ally   \n",
       "\n",
       "     regimenarrowcat        Regime_type   id  \n",
       "0                8.0           Monarchy    1  \n",
       "1                4.0  Single-party rule    2  \n",
       "2                7.0      Military rule    3  \n",
       "3                NaN            unknown    4  \n",
       "4                7.0      Military rule    5  \n",
       "..               ...                ...  ...  \n",
       "177              NaN            unknown  178  \n",
       "178              NaN            unknown  179  \n",
       "179              NaN            unknown  180  \n",
       "180              NaN            unknown  181  \n",
       "181              4.0  Single-party rule  182  \n",
       "\n",
       "[182 rows x 43 columns]"
      ]
     },
     "execution_count": 153,
     "metadata": {},
     "output_type": "execute_result"
    }
   ],
   "source": [
    "today_data"
   ]
  },
  {
   "cell_type": "code",
   "execution_count": 156,
   "id": "c7fbf21f",
   "metadata": {},
   "outputs": [
    {
     "data": {
      "text/html": [
       "<div>\n",
       "<style scoped>\n",
       "    .dataframe tbody tr th:only-of-type {\n",
       "        vertical-align: middle;\n",
       "    }\n",
       "\n",
       "    .dataframe tbody tr th {\n",
       "        vertical-align: top;\n",
       "    }\n",
       "\n",
       "    .dataframe thead th {\n",
       "        text-align: right;\n",
       "    }\n",
       "</style>\n",
       "<table border=\"1\" class=\"dataframe\">\n",
       "  <thead>\n",
       "    <tr style=\"text-align: right;\">\n",
       "      <th></th>\n",
       "      <th>Entity</th>\n",
       "      <th>indiv_libs_vdem_owid</th>\n",
       "      <th>electdem_vdem_owid</th>\n",
       "      <th>libdem_vdem_owid</th>\n",
       "      <th>Countries</th>\n",
       "      <th>Economic.Freedom.Summary.Index</th>\n",
       "      <th>Government.consumption</th>\n",
       "      <th>Transfers.and.subsidies</th>\n",
       "      <th>Government.investment</th>\n",
       "      <th>State.ownership.of.assets</th>\n",
       "      <th>...</th>\n",
       "      <th>Centralized.collective.bargaining</th>\n",
       "      <th>Hours.Regulations</th>\n",
       "      <th>Conscription</th>\n",
       "      <th>Labor.market.regulations</th>\n",
       "      <th>Impartial.Public.Administration</th>\n",
       "      <th>Regulation</th>\n",
       "      <th>alliance</th>\n",
       "      <th>regimenarrowcat</th>\n",
       "      <th>Regime_type</th>\n",
       "      <th>id</th>\n",
       "    </tr>\n",
       "  </thead>\n",
       "  <tbody>\n",
       "    <tr>\n",
       "      <th>0</th>\n",
       "      <td>Afghanistan</td>\n",
       "      <td>0.266</td>\n",
       "      <td>0.160</td>\n",
       "      <td>0.104</td>\n",
       "      <td>NaN</td>\n",
       "      <td>5.506573</td>\n",
       "      <td>6.393604</td>\n",
       "      <td>8.740967</td>\n",
       "      <td>5.519734</td>\n",
       "      <td>5.025106</td>\n",
       "      <td>...</td>\n",
       "      <td>5.897546</td>\n",
       "      <td>5.932564</td>\n",
       "      <td>2.392234</td>\n",
       "      <td>4.700103</td>\n",
       "      <td>4.887146</td>\n",
       "      <td>4.776903</td>\n",
       "      <td>not a US ally</td>\n",
       "      <td>8.0</td>\n",
       "      <td>Monarchy</td>\n",
       "      <td>1</td>\n",
       "    </tr>\n",
       "    <tr>\n",
       "      <th>1</th>\n",
       "      <td>Albania</td>\n",
       "      <td>0.006</td>\n",
       "      <td>0.173</td>\n",
       "      <td>0.055</td>\n",
       "      <td>Albania</td>\n",
       "      <td>3.713222</td>\n",
       "      <td>3.170575</td>\n",
       "      <td>8.262926</td>\n",
       "      <td>-0.627520</td>\n",
       "      <td>0.180000</td>\n",
       "      <td>...</td>\n",
       "      <td>4.220652</td>\n",
       "      <td>4.846848</td>\n",
       "      <td>0.000000</td>\n",
       "      <td>4.215714</td>\n",
       "      <td>1.750000</td>\n",
       "      <td>3.230021</td>\n",
       "      <td>not a US ally</td>\n",
       "      <td>4.0</td>\n",
       "      <td>Single-party rule</td>\n",
       "      <td>2</td>\n",
       "    </tr>\n",
       "    <tr>\n",
       "      <th>2</th>\n",
       "      <td>Algeria</td>\n",
       "      <td>0.428</td>\n",
       "      <td>0.084</td>\n",
       "      <td>0.065</td>\n",
       "      <td>Algeria</td>\n",
       "      <td>4.680000</td>\n",
       "      <td>5.540000</td>\n",
       "      <td>9.322154</td>\n",
       "      <td>7.320000</td>\n",
       "      <td>2.490000</td>\n",
       "      <td>...</td>\n",
       "      <td>5.540452</td>\n",
       "      <td>6.185718</td>\n",
       "      <td>3.000000</td>\n",
       "      <td>4.572435</td>\n",
       "      <td>3.910000</td>\n",
       "      <td>3.630000</td>\n",
       "      <td>not a US ally</td>\n",
       "      <td>7.0</td>\n",
       "      <td>Military rule</td>\n",
       "      <td>3</td>\n",
       "    </tr>\n",
       "    <tr>\n",
       "      <th>3</th>\n",
       "      <td>Angola</td>\n",
       "      <td>0.024</td>\n",
       "      <td>0.010</td>\n",
       "      <td>0.035</td>\n",
       "      <td>Angola</td>\n",
       "      <td>4.547754</td>\n",
       "      <td>6.109553</td>\n",
       "      <td>8.385527</td>\n",
       "      <td>4.949296</td>\n",
       "      <td>3.180000</td>\n",
       "      <td>...</td>\n",
       "      <td>4.641346</td>\n",
       "      <td>5.671838</td>\n",
       "      <td>0.536243</td>\n",
       "      <td>3.955813</td>\n",
       "      <td>2.370000</td>\n",
       "      <td>3.778725</td>\n",
       "      <td>not a US ally</td>\n",
       "      <td>NaN</td>\n",
       "      <td>unknown</td>\n",
       "      <td>4</td>\n",
       "    </tr>\n",
       "    <tr>\n",
       "      <th>4</th>\n",
       "      <td>Argentina</td>\n",
       "      <td>0.354</td>\n",
       "      <td>0.105</td>\n",
       "      <td>0.086</td>\n",
       "      <td>Argentina</td>\n",
       "      <td>5.980000</td>\n",
       "      <td>7.930000</td>\n",
       "      <td>8.006018</td>\n",
       "      <td>8.187808</td>\n",
       "      <td>6.150000</td>\n",
       "      <td>...</td>\n",
       "      <td>5.180000</td>\n",
       "      <td>5.720000</td>\n",
       "      <td>0.000000</td>\n",
       "      <td>3.630000</td>\n",
       "      <td>2.420000</td>\n",
       "      <td>5.310000</td>\n",
       "      <td>US ally</td>\n",
       "      <td>7.0</td>\n",
       "      <td>Military rule</td>\n",
       "      <td>5</td>\n",
       "    </tr>\n",
       "    <tr>\n",
       "      <th>5</th>\n",
       "      <td>Armenia</td>\n",
       "      <td>0.094</td>\n",
       "      <td>0.102</td>\n",
       "      <td>0.024</td>\n",
       "      <td>Armenia</td>\n",
       "      <td>4.543790</td>\n",
       "      <td>6.061647</td>\n",
       "      <td>9.695219</td>\n",
       "      <td>2.974573</td>\n",
       "      <td>3.267026</td>\n",
       "      <td>...</td>\n",
       "      <td>6.120053</td>\n",
       "      <td>5.976917</td>\n",
       "      <td>3.102853</td>\n",
       "      <td>5.022989</td>\n",
       "      <td>3.191819</td>\n",
       "      <td>4.010850</td>\n",
       "      <td>not a US ally</td>\n",
       "      <td>4.0</td>\n",
       "      <td>Single-party rule</td>\n",
       "      <td>6</td>\n",
       "    </tr>\n",
       "    <tr>\n",
       "      <th>6</th>\n",
       "      <td>Australia</td>\n",
       "      <td>0.980</td>\n",
       "      <td>0.860</td>\n",
       "      <td>0.807</td>\n",
       "      <td>Australia</td>\n",
       "      <td>7.560000</td>\n",
       "      <td>6.170000</td>\n",
       "      <td>6.968283</td>\n",
       "      <td>10.000000</td>\n",
       "      <td>7.380000</td>\n",
       "      <td>...</td>\n",
       "      <td>5.180000</td>\n",
       "      <td>5.321900</td>\n",
       "      <td>0.000000</td>\n",
       "      <td>4.346862</td>\n",
       "      <td>9.760000</td>\n",
       "      <td>5.720000</td>\n",
       "      <td>US ally</td>\n",
       "      <td>0.0</td>\n",
       "      <td>Democracy</td>\n",
       "      <td>7</td>\n",
       "    </tr>\n",
       "    <tr>\n",
       "      <th>7</th>\n",
       "      <td>Austria</td>\n",
       "      <td>0.949</td>\n",
       "      <td>0.843</td>\n",
       "      <td>0.728</td>\n",
       "      <td>Austria</td>\n",
       "      <td>6.610000</td>\n",
       "      <td>5.450000</td>\n",
       "      <td>6.070000</td>\n",
       "      <td>7.820000</td>\n",
       "      <td>4.780000</td>\n",
       "      <td>...</td>\n",
       "      <td>4.490000</td>\n",
       "      <td>5.010000</td>\n",
       "      <td>0.000000</td>\n",
       "      <td>3.170000</td>\n",
       "      <td>8.060000</td>\n",
       "      <td>5.160000</td>\n",
       "      <td>not a US ally</td>\n",
       "      <td>0.0</td>\n",
       "      <td>Democracy</td>\n",
       "      <td>8</td>\n",
       "    </tr>\n",
       "    <tr>\n",
       "      <th>8</th>\n",
       "      <td>Azerbaijan</td>\n",
       "      <td>0.094</td>\n",
       "      <td>0.102</td>\n",
       "      <td>0.024</td>\n",
       "      <td>Azerbaijan</td>\n",
       "      <td>4.562497</td>\n",
       "      <td>6.062738</td>\n",
       "      <td>9.676493</td>\n",
       "      <td>3.009096</td>\n",
       "      <td>3.295890</td>\n",
       "      <td>...</td>\n",
       "      <td>6.118530</td>\n",
       "      <td>5.973363</td>\n",
       "      <td>3.112880</td>\n",
       "      <td>5.023543</td>\n",
       "      <td>3.231987</td>\n",
       "      <td>4.029372</td>\n",
       "      <td>not a US ally</td>\n",
       "      <td>4.0</td>\n",
       "      <td>Single-party rule</td>\n",
       "      <td>9</td>\n",
       "    </tr>\n",
       "    <tr>\n",
       "      <th>9</th>\n",
       "      <td>Bahrain</td>\n",
       "      <td>0.449</td>\n",
       "      <td>0.024</td>\n",
       "      <td>NaN</td>\n",
       "      <td>Bahrain</td>\n",
       "      <td>5.990742</td>\n",
       "      <td>7.066136</td>\n",
       "      <td>9.231391</td>\n",
       "      <td>7.644778</td>\n",
       "      <td>2.550000</td>\n",
       "      <td>...</td>\n",
       "      <td>6.308791</td>\n",
       "      <td>6.602108</td>\n",
       "      <td>-1.105166</td>\n",
       "      <td>3.916456</td>\n",
       "      <td>5.160000</td>\n",
       "      <td>4.570043</td>\n",
       "      <td>not a US ally</td>\n",
       "      <td>NaN</td>\n",
       "      <td>unknown</td>\n",
       "      <td>10</td>\n",
       "    </tr>\n",
       "  </tbody>\n",
       "</table>\n",
       "<p>10 rows × 43 columns</p>\n",
       "</div>"
      ],
      "text/plain": [
       "        Entity  indiv_libs_vdem_owid  electdem_vdem_owid  libdem_vdem_owid  \\\n",
       "0  Afghanistan                 0.266               0.160             0.104   \n",
       "1      Albania                 0.006               0.173             0.055   \n",
       "2      Algeria                 0.428               0.084             0.065   \n",
       "3       Angola                 0.024               0.010             0.035   \n",
       "4    Argentina                 0.354               0.105             0.086   \n",
       "5      Armenia                 0.094               0.102             0.024   \n",
       "6    Australia                 0.980               0.860             0.807   \n",
       "7      Austria                 0.949               0.843             0.728   \n",
       "8   Azerbaijan                 0.094               0.102             0.024   \n",
       "9      Bahrain                 0.449               0.024               NaN   \n",
       "\n",
       "    Countries  Economic.Freedom.Summary.Index  Government.consumption  \\\n",
       "0         NaN                        5.506573                6.393604   \n",
       "1     Albania                        3.713222                3.170575   \n",
       "2     Algeria                        4.680000                5.540000   \n",
       "3      Angola                        4.547754                6.109553   \n",
       "4   Argentina                        5.980000                7.930000   \n",
       "5     Armenia                        4.543790                6.061647   \n",
       "6   Australia                        7.560000                6.170000   \n",
       "7     Austria                        6.610000                5.450000   \n",
       "8  Azerbaijan                        4.562497                6.062738   \n",
       "9     Bahrain                        5.990742                7.066136   \n",
       "\n",
       "   Transfers.and.subsidies  Government.investment  State.ownership.of.assets  \\\n",
       "0                 8.740967               5.519734                   5.025106   \n",
       "1                 8.262926              -0.627520                   0.180000   \n",
       "2                 9.322154               7.320000                   2.490000   \n",
       "3                 8.385527               4.949296                   3.180000   \n",
       "4                 8.006018               8.187808                   6.150000   \n",
       "5                 9.695219               2.974573                   3.267026   \n",
       "6                 6.968283              10.000000                   7.380000   \n",
       "7                 6.070000               7.820000                   4.780000   \n",
       "8                 9.676493               3.009096                   3.295890   \n",
       "9                 9.231391               7.644778                   2.550000   \n",
       "\n",
       "   ...  Centralized.collective.bargaining  Hours.Regulations  Conscription  \\\n",
       "0  ...                           5.897546           5.932564      2.392234   \n",
       "1  ...                           4.220652           4.846848      0.000000   \n",
       "2  ...                           5.540452           6.185718      3.000000   \n",
       "3  ...                           4.641346           5.671838      0.536243   \n",
       "4  ...                           5.180000           5.720000      0.000000   \n",
       "5  ...                           6.120053           5.976917      3.102853   \n",
       "6  ...                           5.180000           5.321900      0.000000   \n",
       "7  ...                           4.490000           5.010000      0.000000   \n",
       "8  ...                           6.118530           5.973363      3.112880   \n",
       "9  ...                           6.308791           6.602108     -1.105166   \n",
       "\n",
       "   Labor.market.regulations  Impartial.Public.Administration  Regulation  \\\n",
       "0                  4.700103                         4.887146    4.776903   \n",
       "1                  4.215714                         1.750000    3.230021   \n",
       "2                  4.572435                         3.910000    3.630000   \n",
       "3                  3.955813                         2.370000    3.778725   \n",
       "4                  3.630000                         2.420000    5.310000   \n",
       "5                  5.022989                         3.191819    4.010850   \n",
       "6                  4.346862                         9.760000    5.720000   \n",
       "7                  3.170000                         8.060000    5.160000   \n",
       "8                  5.023543                         3.231987    4.029372   \n",
       "9                  3.916456                         5.160000    4.570043   \n",
       "\n",
       "        alliance  regimenarrowcat        Regime_type  id  \n",
       "0  not a US ally              8.0           Monarchy   1  \n",
       "1  not a US ally              4.0  Single-party rule   2  \n",
       "2  not a US ally              7.0      Military rule   3  \n",
       "3  not a US ally              NaN            unknown   4  \n",
       "4        US ally              7.0      Military rule   5  \n",
       "5  not a US ally              4.0  Single-party rule   6  \n",
       "6        US ally              0.0          Democracy   7  \n",
       "7  not a US ally              0.0          Democracy   8  \n",
       "8  not a US ally              4.0  Single-party rule   9  \n",
       "9  not a US ally              NaN            unknown  10  \n",
       "\n",
       "[10 rows x 43 columns]"
      ]
     },
     "execution_count": 156,
     "metadata": {},
     "output_type": "execute_result"
    }
   ],
   "source": [
    "today_data.head(10)"
   ]
  },
  {
   "cell_type": "code",
   "execution_count": 157,
   "id": "5e93f769",
   "metadata": {},
   "outputs": [
    {
     "name": "stdout",
     "output_type": "stream",
     "text": [
      "<class 'pandas.core.frame.DataFrame'>\n",
      "RangeIndex: 182 entries, 0 to 181\n",
      "Data columns (total 43 columns):\n",
      " #   Column                                                Non-Null Count  Dtype  \n",
      "---  ------                                                --------------  -----  \n",
      " 0   Entity                                                182 non-null    object \n",
      " 1   indiv_libs_vdem_owid                                  177 non-null    float64\n",
      " 2   electdem_vdem_owid                                    177 non-null    float64\n",
      " 3   libdem_vdem_owid                                      175 non-null    float64\n",
      " 4   Countries                                             165 non-null    object \n",
      " 5   Economic.Freedom.Summary.Index                        182 non-null    float64\n",
      " 6   Government.consumption                                182 non-null    float64\n",
      " 7   Transfers.and.subsidies                               182 non-null    float64\n",
      " 8   Government.investment                                 182 non-null    float64\n",
      " 9   State.ownership.of.assets                             182 non-null    float64\n",
      " 10  Size.of.Government                                    182 non-null    float64\n",
      " 11  Judicial.independence                                 182 non-null    float64\n",
      " 12  Impartial.courts                                      182 non-null    float64\n",
      " 13  Integrity.of.the.legal.system                         182 non-null    float64\n",
      " 14  Legal.enforcement.of.contracts                        182 non-null    float64\n",
      " 15  Gender.Legal.Rights.Adjustment                        182 non-null    float64\n",
      " 16  Legal.System...Property.Rights                        182 non-null    float64\n",
      " 17  Money.growth                                          182 non-null    float64\n",
      " 18  Standard.deviation.of.inflation                       182 non-null    float64\n",
      " 19  Inflation..Most.recent.year                           182 non-null    float64\n",
      " 20  Freedom.to.own.foreign.currency.bank.accounts         182 non-null    float64\n",
      " 21  Sound.Money                                           182 non-null    float64\n",
      " 22  Revenue.from.trade.taxes....of.trade.sector.          182 non-null    float64\n",
      " 23  Tariffs                                               182 non-null    float64\n",
      " 24  Black.market.exchange.rates                           182 non-null    float64\n",
      " 25  Financial.Openness                                    182 non-null    float64\n",
      " 26  Capital.controls                                      182 non-null    float64\n",
      " 27  Controls.of.the.movement.of.capital.and.people        182 non-null    float64\n",
      " 28  Freedom.to.trade.Internationally                      182 non-null    float64\n",
      " 29  Ownership.of.banks                                    182 non-null    float64\n",
      " 30  Private.sector.credit                                 182 non-null    float64\n",
      " 31  Interest.rate.controls.negative.real.interest.rates.  182 non-null    float64\n",
      " 32  Credit.market.regulations                             182 non-null    float64\n",
      " 33  Centralized.collective.bargaining                     182 non-null    float64\n",
      " 34  Hours.Regulations                                     182 non-null    float64\n",
      " 35  Conscription                                          182 non-null    float64\n",
      " 36  Labor.market.regulations                              182 non-null    float64\n",
      " 37  Impartial.Public.Administration                       182 non-null    float64\n",
      " 38  Regulation                                            182 non-null    float64\n",
      " 39  alliance                                              182 non-null    object \n",
      " 40  regimenarrowcat                                       161 non-null    float64\n",
      " 41  Regime_type                                           182 non-null    object \n",
      " 42  id                                                    182 non-null    int64  \n",
      "dtypes: float64(38), int64(1), object(4)\n",
      "memory usage: 61.3+ KB\n"
     ]
    }
   ],
   "source": [
    "today_data.info()"
   ]
  },
  {
   "cell_type": "code",
   "execution_count": 163,
   "id": "bc06440c",
   "metadata": {},
   "outputs": [
    {
     "data": {
      "text/plain": [
       "0    Afghanistan\n",
       "1        Albania\n",
       "2        Algeria\n",
       "3         Angola\n",
       "4      Argentina\n",
       "5        Armenia\n",
       "6      Australia\n",
       "7        Austria\n",
       "8     Azerbaijan\n",
       "9        Bahrain\n",
       "Name: Entity, dtype: object"
      ]
     },
     "execution_count": 163,
     "metadata": {},
     "output_type": "execute_result"
    }
   ],
   "source": [
    "today_data['Entity'] "
   ]
  },
  {
   "cell_type": "code",
   "execution_count": 165,
   "id": "d0d8575d",
   "metadata": {},
   "outputs": [],
   "source": [
    "today_data['indiv_libs_vdem_owid 100'] = today_data['indiv_libs_vdem_owid']*100"
   ]
  },
  {
   "cell_type": "code",
   "execution_count": 166,
   "id": "c47eace3",
   "metadata": {},
   "outputs": [
    {
     "data": {
      "text/plain": [
       "0      26.6\n",
       "1       0.6\n",
       "2      42.8\n",
       "3       2.4\n",
       "4      35.4\n",
       "       ... \n",
       "177     NaN\n",
       "178     NaN\n",
       "179     NaN\n",
       "180     NaN\n",
       "181     NaN\n",
       "Name: indiv_libs_vdem_owid 100, Length: 182, dtype: float64"
      ]
     },
     "execution_count": 166,
     "metadata": {},
     "output_type": "execute_result"
    }
   ],
   "source": [
    "today_data['indiv_libs_vdem_owid 100']"
   ]
  },
  {
   "cell_type": "code",
   "execution_count": 167,
   "id": "31f8e9aa",
   "metadata": {},
   "outputs": [],
   "source": [
    "today_data.to_csv('testcsv')"
   ]
  },
  {
   "cell_type": "code",
   "execution_count": 170,
   "id": "5bd69c8f",
   "metadata": {},
   "outputs": [
    {
     "data": {
      "text/plain": [
       "False"
      ]
     },
     "execution_count": 170,
     "metadata": {},
     "output_type": "execute_result"
    }
   ],
   "source": [
    "5.0 != 5"
   ]
  },
  {
   "cell_type": "code",
   "execution_count": 173,
   "id": "47abaa0c",
   "metadata": {},
   "outputs": [],
   "source": [
    "num1 = 7\n",
    "num2 = 7"
   ]
  },
  {
   "cell_type": "code",
   "execution_count": 174,
   "id": "f1fb8c06",
   "metadata": {},
   "outputs": [],
   "source": [
    "if num1 != num2:\n",
    "    print(num1)\n",
    "    "
   ]
  },
  {
   "cell_type": "code",
   "execution_count": null,
   "id": "cb10c2d1",
   "metadata": {},
   "outputs": [],
   "source": []
  }
 ],
 "metadata": {
  "kernelspec": {
   "display_name": "Python 3 (ipykernel)",
   "language": "python",
   "name": "python3"
  },
  "language_info": {
   "codemirror_mode": {
    "name": "ipython",
    "version": 3
   },
   "file_extension": ".py",
   "mimetype": "text/x-python",
   "name": "python",
   "nbconvert_exporter": "python",
   "pygments_lexer": "ipython3",
   "version": "3.11.4"
  }
 },
 "nbformat": 4,
 "nbformat_minor": 5
}
