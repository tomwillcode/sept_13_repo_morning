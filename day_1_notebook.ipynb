{
 "cells": [
  {
   "cell_type": "code",
   "execution_count": 3,
   "id": "5f911a5a",
   "metadata": {},
   "outputs": [
    {
     "name": "stdout",
     "output_type": "stream",
     "text": [
      "hello world\n"
     ]
    }
   ],
   "source": [
    "print('hello world')"
   ]
  },
  {
   "cell_type": "code",
   "execution_count": 25,
   "id": "2ad2e2f6",
   "metadata": {},
   "outputs": [],
   "source": [
    "my_string = 'sdfsfsdfsadfdfgdsfg'\n",
    "my_int = 3457\n",
    "my_float = 7.9123"
   ]
  },
  {
   "cell_type": "code",
   "execution_count": 26,
   "id": "91a473a9",
   "metadata": {},
   "outputs": [],
   "source": [
    "my_string2 = 'uyiyuiyuiyuiyui'\n",
    "my_int2 = 8\n",
    "my_float2 = 7.0"
   ]
  },
  {
   "cell_type": "code",
   "execution_count": 27,
   "id": "844e874a",
   "metadata": {},
   "outputs": [
    {
     "data": {
      "text/plain": [
       "'sdfsuyiyu'"
      ]
     },
     "execution_count": 27,
     "metadata": {},
     "output_type": "execute_result"
    }
   ],
   "source": [
    "my_string[0:4]+my_string2[0:5]"
   ]
  },
  {
   "cell_type": "code",
   "execution_count": 29,
   "id": "b2162770",
   "metadata": {},
   "outputs": [
    {
     "data": {
      "text/plain": [
       "27656"
      ]
     },
     "execution_count": 29,
     "metadata": {},
     "output_type": "execute_result"
    }
   ],
   "source": [
    "my_int2*my_int"
   ]
  },
  {
   "cell_type": "code",
   "execution_count": 35,
   "id": "9dceacc9",
   "metadata": {},
   "outputs": [
    {
     "data": {
      "text/plain": [
       "1"
      ]
     },
     "execution_count": 35,
     "metadata": {},
     "output_type": "execute_result"
    }
   ],
   "source": [
    "my_int2%7"
   ]
  },
  {
   "cell_type": "code",
   "execution_count": 45,
   "id": "af096459",
   "metadata": {},
   "outputs": [
    {
     "data": {
      "text/plain": [
       "3.0"
      ]
     },
     "execution_count": 45,
     "metadata": {},
     "output_type": "execute_result"
    }
   ],
   "source": [
    "my_float2"
   ]
  },
  {
   "cell_type": "code",
   "execution_count": 49,
   "id": "5e131a8e",
   "metadata": {},
   "outputs": [
    {
     "data": {
      "text/plain": [
       "19"
      ]
     },
     "execution_count": 49,
     "metadata": {},
     "output_type": "execute_result"
    }
   ],
   "source": [
    "len(my_string)"
   ]
  },
  {
   "cell_type": "code",
   "execution_count": 51,
   "id": "074a0e78",
   "metadata": {},
   "outputs": [],
   "source": [
    "my_bool = True\n",
    "my_boolf = False"
   ]
  },
  {
   "cell_type": "code",
   "execution_count": 54,
   "id": "7693a523",
   "metadata": {},
   "outputs": [],
   "source": [
    "if my_boolf:\n",
    "    print(4)"
   ]
  },
  {
   "cell_type": "code",
   "execution_count": 61,
   "id": "d5692c8b",
   "metadata": {},
   "outputs": [
    {
     "data": {
      "text/plain": [
       "2"
      ]
     },
     "execution_count": 61,
     "metadata": {},
     "output_type": "execute_result"
    }
   ],
   "source": [
    "True + True"
   ]
  },
  {
   "cell_type": "code",
   "execution_count": 68,
   "id": "b471ced2",
   "metadata": {},
   "outputs": [
    {
     "data": {
      "text/plain": [
       "True"
      ]
     },
     "execution_count": 68,
     "metadata": {},
     "output_type": "execute_result"
    }
   ],
   "source": [
    "1 == True"
   ]
  },
  {
   "cell_type": "code",
   "execution_count": 70,
   "id": "22a0c569",
   "metadata": {},
   "outputs": [
    {
     "data": {
      "text/plain": [
       "False"
      ]
     },
     "execution_count": 70,
     "metadata": {},
     "output_type": "execute_result"
    }
   ],
   "source": [
    "'z' in 'abfgrt'"
   ]
  },
  {
   "cell_type": "code",
   "execution_count": 71,
   "id": "22201dd8",
   "metadata": {},
   "outputs": [],
   "source": [
    "my_boolean = ((3*3*3)==(3**3))\n",
    "another_boolean = ((3*2)==(5*1))\n",
    "and_another_boolean = (4 == 6)"
   ]
  },
  {
   "cell_type": "code",
   "execution_count": 73,
   "id": "80b684e0",
   "metadata": {},
   "outputs": [
    {
     "data": {
      "text/plain": [
       "False"
      ]
     },
     "execution_count": 73,
     "metadata": {},
     "output_type": "execute_result"
    }
   ],
   "source": [
    "another_boolean"
   ]
  },
  {
   "cell_type": "code",
   "execution_count": 74,
   "id": "477ece6f",
   "metadata": {},
   "outputs": [],
   "source": [
    "my_list = [2, 5, 8, 'a',5.7,True,'ffssd']"
   ]
  },
  {
   "cell_type": "code",
   "execution_count": 75,
   "id": "eaa295a0",
   "metadata": {},
   "outputs": [
    {
     "data": {
      "text/plain": [
       "2"
      ]
     },
     "execution_count": 75,
     "metadata": {},
     "output_type": "execute_result"
    }
   ],
   "source": [
    "my_list[0]"
   ]
  },
  {
   "cell_type": "code",
   "execution_count": 76,
   "id": "3e3a9663",
   "metadata": {},
   "outputs": [
    {
     "data": {
      "text/plain": [
       "5"
      ]
     },
     "execution_count": 76,
     "metadata": {},
     "output_type": "execute_result"
    }
   ],
   "source": [
    "my_list[1]"
   ]
  },
  {
   "cell_type": "code",
   "execution_count": 77,
   "id": "827387fe",
   "metadata": {},
   "outputs": [
    {
     "data": {
      "text/plain": [
       "[2, 5, 8, 'a', 5.7]"
      ]
     },
     "execution_count": 77,
     "metadata": {},
     "output_type": "execute_result"
    }
   ],
   "source": [
    "my_list[0:5]"
   ]
  },
  {
   "cell_type": "code",
   "execution_count": 79,
   "id": "1ce819ae",
   "metadata": {},
   "outputs": [
    {
     "data": {
      "text/plain": [
       "['a', 5.7, True, 'ffssd']"
      ]
     },
     "execution_count": 79,
     "metadata": {},
     "output_type": "execute_result"
    }
   ],
   "source": [
    "my_list[3:7]"
   ]
  },
  {
   "cell_type": "code",
   "execution_count": 82,
   "id": "07ca989a",
   "metadata": {},
   "outputs": [
    {
     "data": {
      "text/plain": [
       "['a', 5.7, True, 'ffssd']"
      ]
     },
     "execution_count": 82,
     "metadata": {},
     "output_type": "execute_result"
    }
   ],
   "source": [
    "my_list[3:14]"
   ]
  },
  {
   "cell_type": "code",
   "execution_count": 85,
   "id": "f6214c4e",
   "metadata": {},
   "outputs": [
    {
     "ename": "IndexError",
     "evalue": "list index out of range",
     "output_type": "error",
     "traceback": [
      "\u001b[1;31m---------------------------------------------------------------------------\u001b[0m",
      "\u001b[1;31mIndexError\u001b[0m                                Traceback (most recent call last)",
      "Cell \u001b[1;32mIn[85], line 1\u001b[0m\n\u001b[1;32m----> 1\u001b[0m \u001b[43mmy_list\u001b[49m\u001b[43m[\u001b[49m\u001b[38;5;241;43m15\u001b[39;49m\u001b[43m]\u001b[49m\n",
      "\u001b[1;31mIndexError\u001b[0m: list index out of range"
     ]
    }
   ],
   "source": [
    "my_list[15]"
   ]
  },
  {
   "cell_type": "code",
   "execution_count": 86,
   "id": "b4d15474",
   "metadata": {},
   "outputs": [
    {
     "name": "stdout",
     "output_type": "stream",
     "text": [
      "a in my list\n"
     ]
    }
   ],
   "source": [
    "if 'a' in my_list:\n",
    "    print('a in my list')"
   ]
  },
  {
   "cell_type": "code",
   "execution_count": 106,
   "id": "42d97cb5",
   "metadata": {},
   "outputs": [],
   "source": [
    "def check_for_element(blah,blahblah):\n",
    "    if blah in blahblah:\n",
    "        print(str(blah)+' in my list')\n",
    "    else:\n",
    "        print(str(blah)+' NOT in my list')"
   ]
  },
  {
   "cell_type": "code",
   "execution_count": 108,
   "id": "49a6ddc2",
   "metadata": {},
   "outputs": [
    {
     "name": "stdout",
     "output_type": "stream",
     "text": [
      "8 in my list\n"
     ]
    }
   ],
   "source": [
    "check_for_element(8,my_list)"
   ]
  },
  {
   "cell_type": "code",
   "execution_count": 109,
   "id": "a34b0431",
   "metadata": {},
   "outputs": [
    {
     "data": {
      "text/plain": [
       "7"
      ]
     },
     "execution_count": 109,
     "metadata": {},
     "output_type": "execute_result"
    }
   ],
   "source": [
    "len(my_list)"
   ]
  },
  {
   "cell_type": "code",
   "execution_count": 110,
   "id": "d8e6fc2c",
   "metadata": {},
   "outputs": [],
   "source": [
    "my_list.append(91)"
   ]
  },
  {
   "cell_type": "code",
   "execution_count": 111,
   "id": "b9d7da63",
   "metadata": {},
   "outputs": [
    {
     "name": "stdout",
     "output_type": "stream",
     "text": [
      "[2, 5, 8, 'a', 5.7, True, 'ffssd', 91]\n"
     ]
    }
   ],
   "source": [
    "print(my_list)"
   ]
  },
  {
   "cell_type": "code",
   "execution_count": 112,
   "id": "26414b78",
   "metadata": {},
   "outputs": [],
   "source": [
    "my_list.append([4,8,1])"
   ]
  },
  {
   "cell_type": "code",
   "execution_count": 113,
   "id": "8144ae52",
   "metadata": {},
   "outputs": [
    {
     "data": {
      "text/plain": [
       "[2, 5, 8, 'a', 5.7, True, 'ffssd', 91, [4, 8, 1]]"
      ]
     },
     "execution_count": 113,
     "metadata": {},
     "output_type": "execute_result"
    }
   ],
   "source": [
    "my_list"
   ]
  },
  {
   "cell_type": "code",
   "execution_count": 114,
   "id": "5342f8df",
   "metadata": {},
   "outputs": [
    {
     "data": {
      "text/plain": [
       "9"
      ]
     },
     "execution_count": 114,
     "metadata": {},
     "output_type": "execute_result"
    }
   ],
   "source": [
    "len(my_list)"
   ]
  },
  {
   "cell_type": "code",
   "execution_count": 125,
   "id": "62b0b16a",
   "metadata": {},
   "outputs": [
    {
     "name": "stdout",
     "output_type": "stream",
     "text": [
      "2\n",
      "5\n",
      "8\n",
      "a\n",
      "5.7\n",
      "True\n",
      "ffssd\n",
      "91\n",
      "[4, 8, 1]\n"
     ]
    }
   ],
   "source": [
    "for i in my_list:\n",
    "    print(i)"
   ]
  },
  {
   "cell_type": "code",
   "execution_count": 126,
   "id": "f531d50f",
   "metadata": {},
   "outputs": [],
   "source": [
    "my_dictionary = {'name': 'Bob','profession':'doctor','city':'London','age':47}"
   ]
  },
  {
   "cell_type": "code",
   "execution_count": 133,
   "id": "02c550db",
   "metadata": {},
   "outputs": [
    {
     "name": "stdout",
     "output_type": "stream",
     "text": [
      "name:Bob\n",
      "profession:doctor\n",
      "city:London\n",
      "age:47\n"
     ]
    }
   ],
   "source": [
    "for i in my_dictionary:\n",
    "    print(str(i)+ ':' + str(my_dictionary[i]))"
   ]
  },
  {
   "cell_type": "code",
   "execution_count": 136,
   "id": "cbee1480",
   "metadata": {},
   "outputs": [
    {
     "data": {
      "text/plain": [
       "'London'"
      ]
     },
     "execution_count": 136,
     "metadata": {},
     "output_type": "execute_result"
    }
   ],
   "source": [
    "my_dictionary['city']"
   ]
  },
  {
   "cell_type": "code",
   "execution_count": 137,
   "id": "2dd3a015",
   "metadata": {},
   "outputs": [],
   "source": [
    "#updating the dictionary\n",
    "my_dictionary['city']='Glasgow'"
   ]
  },
  {
   "cell_type": "code",
   "execution_count": 138,
   "id": "c52f4a73",
   "metadata": {},
   "outputs": [
    {
     "data": {
      "text/plain": [
       "{'name': 'Bob', 'profession': 'doctor', 'city': 'Glasgow', 'age': 47}"
      ]
     },
     "execution_count": 138,
     "metadata": {},
     "output_type": "execute_result"
    }
   ],
   "source": [
    "my_dictionary"
   ]
  },
  {
   "cell_type": "code",
   "execution_count": 139,
   "id": "ccf4fd6a",
   "metadata": {},
   "outputs": [],
   "source": [
    "my_dictionary['Education'] = {'undergrad':'UofT','med school':'UBC'}"
   ]
  },
  {
   "cell_type": "code",
   "execution_count": 140,
   "id": "f812109b",
   "metadata": {},
   "outputs": [
    {
     "data": {
      "text/plain": [
       "{'name': 'Bob',\n",
       " 'profession': 'doctor',\n",
       " 'city': 'Glasgow',\n",
       " 'age': 47,\n",
       " 'Education': {'undergrad': 'UofT', 'med school': 'UBC'}}"
      ]
     },
     "execution_count": 140,
     "metadata": {},
     "output_type": "execute_result"
    }
   ],
   "source": [
    "my_dictionary"
   ]
  },
  {
   "cell_type": "code",
   "execution_count": 143,
   "id": "1ed505fe",
   "metadata": {},
   "outputs": [],
   "source": [
    "data_dictionary = {'variable1':[1,3,7,9.0,8],'variable2':[1,0,0,1,0],'variable3':[3,7,9,1,0]}"
   ]
  },
  {
   "cell_type": "code",
   "execution_count": 144,
   "id": "07573d0c",
   "metadata": {},
   "outputs": [
    {
     "data": {
      "text/plain": [
       "{'variable1': [1, 3, 7, 9.0, 8],\n",
       " 'variable2': [1, 0, 0, 1, 0],\n",
       " 'variable3': [3, 7, 9, 1, 0]}"
      ]
     },
     "execution_count": 144,
     "metadata": {},
     "output_type": "execute_result"
    }
   ],
   "source": [
    "data_dictionary"
   ]
  },
  {
   "cell_type": "code",
   "execution_count": 149,
   "id": "76ea1dfc",
   "metadata": {},
   "outputs": [
    {
     "name": "stdout",
     "output_type": "stream",
     "text": [
      "0\n",
      "1\n",
      "2\n",
      "3\n",
      "4\n",
      "5\n",
      "6\n",
      "7\n",
      "8\n",
      "9\n"
     ]
    }
   ],
   "source": [
    "tracker = 0\n",
    "while tracker <= :\n",
    "    print(tracker)\n",
    "    tracker = tracker + 1"
   ]
  },
  {
   "cell_type": "code",
   "execution_count": null,
   "id": "b6971e7c",
   "metadata": {},
   "outputs": [],
   "source": []
  }
 ],
 "metadata": {
  "kernelspec": {
   "display_name": "Python 3 (ipykernel)",
   "language": "python",
   "name": "python3"
  },
  "language_info": {
   "codemirror_mode": {
    "name": "ipython",
    "version": 3
   },
   "file_extension": ".py",
   "mimetype": "text/x-python",
   "name": "python",
   "nbconvert_exporter": "python",
   "pygments_lexer": "ipython3",
   "version": "3.11.4"
  }
 },
 "nbformat": 4,
 "nbformat_minor": 5
}
